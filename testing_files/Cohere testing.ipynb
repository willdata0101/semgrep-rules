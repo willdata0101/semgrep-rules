{
 "cells": [
  {
   "cell_type": "code",
   "execution_count": 2,
   "metadata": {},
   "outputs": [],
   "source": [
    "# Imports\n",
    "import cohere"
   ]
  },
  {
   "cell_type": "code",
   "execution_count": 3,
   "metadata": {},
   "outputs": [],
   "source": [
    "co = cohere.Client('NNpNN3Cch0yryVyeqB3VBgxcK1sxApMxsFk9c6L3')"
   ]
  },
  {
   "cell_type": "code",
   "execution_count": 7,
   "metadata": {},
   "outputs": [],
   "source": [
    "# Creating prompt\n",
    "\n",
    "prompt = \"\"\"\n",
    "This program takes in as input a rule or set of rules in .yaml format without metadata, then adds the metadata in and outputs the completed rule or set of rules.\n",
    "\n",
    "rules:\n",
    "- id: ruby-jwt-exposed-credentials\n",
    "  languages: [ruby]\n",
    "  message: >-\n",
    "    Password is exposed through JWT token payload. This is not encrypted and\n",
    "    the password could be compromised. Do not store passwords in JWT tokens.\n",
    "  patterns:\n",
    "  - pattern-inside: |\n",
    "      require 'jwt'\n",
    "      ...\n",
    "  - pattern: |\n",
    "      $PAYLOAD = {...,password:...,...}\n",
    "      ...\n",
    "      JWT.encode($PAYLOAD,...)\n",
    "  severity: ERROR\n",
    "\n",
    "\"\"\""
   ]
  },
  {
   "cell_type": "code",
   "execution_count": 5,
   "metadata": {},
   "outputs": [],
   "source": [
    "# Define model settings\n",
    "\n",
    "response = co.generate(\n",
    "    model='xlarge',\n",
    "    prompt=prompt,\n",
    "    max_tokens=100,\n",
    "    temperature=0\n",
    ")"
   ]
  },
  {
   "cell_type": "code",
   "execution_count": 8,
   "metadata": {},
   "outputs": [],
   "source": [
    "metadata = response.generations[0].text"
   ]
  },
  {
   "cell_type": "code",
   "execution_count": 1,
   "metadata": {},
   "outputs": [],
   "source": [
    "#print(metadata)"
   ]
  },
  {
   "cell_type": "code",
   "execution_count": null,
   "metadata": {},
   "outputs": [],
   "source": []
  }
 ],
 "metadata": {
  "kernelspec": {
   "display_name": "base",
   "language": "python",
   "name": "python3"
  },
  "language_info": {
   "codemirror_mode": {
    "name": "ipython",
    "version": 3
   },
   "file_extension": ".py",
   "mimetype": "text/x-python",
   "name": "python",
   "nbconvert_exporter": "python",
   "pygments_lexer": "ipython3",
   "version": "3.9.12"
  },
  "orig_nbformat": 4
 },
 "nbformat": 4,
 "nbformat_minor": 2
}
