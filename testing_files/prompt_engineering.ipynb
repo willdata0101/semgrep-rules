{
 "cells": [
  {
   "cell_type": "code",
   "execution_count": 2,
   "metadata": {},
   "outputs": [],
   "source": [
    "import os"
   ]
  },
  {
   "cell_type": "code",
   "execution_count": 3,
   "metadata": {},
   "outputs": [],
   "source": [
    "directory = r\"C:\\Users\\willt\\semgrep-rules\\yaml\\semgrep\""
   ]
  },
  {
   "cell_type": "code",
   "execution_count": 4,
   "metadata": {},
   "outputs": [
    {
     "name": "stdout",
     "output_type": "stream",
     "text": [
      "C:\\Users\\willt\\semgrep-rules\\yaml\\semgrep\\duplicate-id.test.yaml\n",
      "C:\\Users\\willt\\semgrep-rules\\yaml\\semgrep\\duplicate-id.yaml\n",
      "C:\\Users\\willt\\semgrep-rules\\yaml\\semgrep\\duplicate-pattern.test.yaml\n",
      "C:\\Users\\willt\\semgrep-rules\\yaml\\semgrep\\duplicate-pattern.yaml\n",
      "C:\\Users\\willt\\semgrep-rules\\yaml\\semgrep\\empty-message.test.yaml\n",
      "C:\\Users\\willt\\semgrep-rules\\yaml\\semgrep\\empty-message.yaml\n",
      "C:\\Users\\willt\\semgrep-rules\\yaml\\semgrep\\message-whitespace.test.yaml\n",
      "C:\\Users\\willt\\semgrep-rules\\yaml\\semgrep\\message-whitespace.yaml\n",
      "C:\\Users\\willt\\semgrep-rules\\yaml\\semgrep\\metadata-category.test.yaml\n",
      "C:\\Users\\willt\\semgrep-rules\\yaml\\semgrep\\metadata-category.yaml\n",
      "C:\\Users\\willt\\semgrep-rules\\yaml\\semgrep\\metadata-confidence-incorrect-value.test.yaml\n",
      "C:\\Users\\willt\\semgrep-rules\\yaml\\semgrep\\metadata-confidence-incorrect-value.yaml\n",
      "C:\\Users\\willt\\semgrep-rules\\yaml\\semgrep\\metadata-confidence.test.yaml\n",
      "C:\\Users\\willt\\semgrep-rules\\yaml\\semgrep\\metadata-confidence.yaml\n",
      "C:\\Users\\willt\\semgrep-rules\\yaml\\semgrep\\metadata-cwe.test.yaml\n",
      "C:\\Users\\willt\\semgrep-rules\\yaml\\semgrep\\metadata-cwe.yaml\n",
      "C:\\Users\\willt\\semgrep-rules\\yaml\\semgrep\\metadata-deepsemgrep.test.yaml\n",
      "C:\\Users\\willt\\semgrep-rules\\yaml\\semgrep\\metadata-deepsemgrep.yaml\n",
      "C:\\Users\\willt\\semgrep-rules\\yaml\\semgrep\\metadata-impact-incorrect-value.test.yaml\n",
      "C:\\Users\\willt\\semgrep-rules\\yaml\\semgrep\\metadata-impact-incorrect-value.yaml\n",
      "C:\\Users\\willt\\semgrep-rules\\yaml\\semgrep\\metadata-impact.test.yaml\n",
      "C:\\Users\\willt\\semgrep-rules\\yaml\\semgrep\\metadata-impact.yaml\n",
      "C:\\Users\\willt\\semgrep-rules\\yaml\\semgrep\\metadata-likelihood-incorrect-value.test.yaml\n",
      "C:\\Users\\willt\\semgrep-rules\\yaml\\semgrep\\metadata-likelihood-incorrect-value.yaml\n",
      "C:\\Users\\willt\\semgrep-rules\\yaml\\semgrep\\metadata-likelihood.test.yaml\n",
      "C:\\Users\\willt\\semgrep-rules\\yaml\\semgrep\\metadata-likelihood.yaml\n",
      "C:\\Users\\willt\\semgrep-rules\\yaml\\semgrep\\metadata-owasp.test.yaml\n",
      "C:\\Users\\willt\\semgrep-rules\\yaml\\semgrep\\metadata-owasp.yaml\n",
      "C:\\Users\\willt\\semgrep-rules\\yaml\\semgrep\\metadata-references.test.yaml\n",
      "C:\\Users\\willt\\semgrep-rules\\yaml\\semgrep\\metadata-references.yaml\n",
      "C:\\Users\\willt\\semgrep-rules\\yaml\\semgrep\\metadata-subcategory-incorrect-value.test.yaml\n",
      "C:\\Users\\willt\\semgrep-rules\\yaml\\semgrep\\metadata-subcategory-incorrect-value.yaml\n",
      "C:\\Users\\willt\\semgrep-rules\\yaml\\semgrep\\metadata-subcategory.test.yaml\n",
      "C:\\Users\\willt\\semgrep-rules\\yaml\\semgrep\\metadata-subcategory.yaml\n",
      "C:\\Users\\willt\\semgrep-rules\\yaml\\semgrep\\metadata-technology.test.yaml\n",
      "C:\\Users\\willt\\semgrep-rules\\yaml\\semgrep\\metadata-technology.yaml\n",
      "C:\\Users\\willt\\semgrep-rules\\yaml\\semgrep\\missing-language-field.test.yaml\n",
      "C:\\Users\\willt\\semgrep-rules\\yaml\\semgrep\\missing-language-field.yaml\n",
      "C:\\Users\\willt\\semgrep-rules\\yaml\\semgrep\\missing-message-field.test.yaml\n",
      "C:\\Users\\willt\\semgrep-rules\\yaml\\semgrep\\missing-message-field.yaml\n",
      "C:\\Users\\willt\\semgrep-rules\\yaml\\semgrep\\multi-line-message.test.yaml\n",
      "C:\\Users\\willt\\semgrep-rules\\yaml\\semgrep\\multi-line-message.yaml\n",
      "C:\\Users\\willt\\semgrep-rules\\yaml\\semgrep\\rule-missing-deconstructed-value.test.yaml\n",
      "C:\\Users\\willt\\semgrep-rules\\yaml\\semgrep\\rule-missing-deconstructed-value.yaml\n",
      "C:\\Users\\willt\\semgrep-rules\\yaml\\semgrep\\slow-pattern-general-function.test.yaml\n",
      "C:\\Users\\willt\\semgrep-rules\\yaml\\semgrep\\slow-pattern-general-function.yaml\n",
      "C:\\Users\\willt\\semgrep-rules\\yaml\\semgrep\\slow-pattern-general-property.test.yaml\n",
      "C:\\Users\\willt\\semgrep-rules\\yaml\\semgrep\\slow-pattern-general-property.yaml\n",
      "C:\\Users\\willt\\semgrep-rules\\yaml\\semgrep\\slow-pattern-single-metavariable.test.yaml\n",
      "C:\\Users\\willt\\semgrep-rules\\yaml\\semgrep\\slow-pattern-single-metavariable.yaml\n",
      "C:\\Users\\willt\\semgrep-rules\\yaml\\semgrep\\slow-pattern-top-ellipsis.test.yaml\n",
      "C:\\Users\\willt\\semgrep-rules\\yaml\\semgrep\\slow-pattern-top-ellipsis.yaml\n",
      "C:\\Users\\willt\\semgrep-rules\\yaml\\semgrep\\unnecessary-parent.test.yaml\n",
      "C:\\Users\\willt\\semgrep-rules\\yaml\\semgrep\\unnecessary-parent.yaml\n",
      "C:\\Users\\willt\\semgrep-rules\\yaml\\semgrep\\unsatisfiable.test.yaml\n",
      "C:\\Users\\willt\\semgrep-rules\\yaml\\semgrep\\unsatisfiable.yaml\n"
     ]
    }
   ],
   "source": [
    "for file in os.listdir(directory):\n",
    "    f = os.path.join(directory, file)\n",
    "    if os.path.isfile(f):\n",
    "        print(f)"
   ]
  },
  {
   "cell_type": "code",
   "execution_count": 24,
   "metadata": {},
   "outputs": [],
   "source": [
    "with_meta = []\n",
    "without_meta = []\n",
    "\n",
    "for file in os.listdir(directory):\n",
    "    f = os.path.join(directory, file)\n",
    "    if os.path.isfile(f):\n",
    "        with open(f) as e:\n",
    "            content = e.read()\n",
    "            if 'metadata' in content:\n",
    "                with_meta.append(content)\n",
    "            else:\n",
    "                without_meta.append(content)\n",
    "            e.close()"
   ]
  },
  {
   "cell_type": "code",
   "execution_count": 27,
   "metadata": {},
   "outputs": [],
   "source": [
    "directory_2 = r\"C:\\Users\\willt\\semgrep-rules\\yaml\\kubernetes\\security\"\n",
    "\n",
    "for file in os.listdir(directory_2):\n",
    "    f = os.path.join(directory_2, file)\n",
    "    if os.path.isfile(f):\n",
    "        with open(f) as e:\n",
    "            content = e.read()\n",
    "            if 'metadata' in content:\n",
    "                with_meta.append(content)\n",
    "            e.close()"
   ]
  },
  {
   "cell_type": "code",
   "execution_count": 26,
   "metadata": {},
   "outputs": [
    {
     "name": "stdout",
     "output_type": "stream",
     "text": [
      "rules:\n",
      "  - id: duplicate-id\n",
      "    message: >-\n",
      "      The 'id' field $X was used multiple times.\n",
      "      The 'id' field needs to be unique.\n",
      "    severity: ERROR\n",
      "    languages: [yaml]\n",
      "    patterns:\n",
      "      - pattern-inside: \"rules: [..., $RULE, ...]\"\n",
      "      # nosemgrep: yaml.semgrep.slow-pattern-top-ellipsis\n",
      "      - pattern-inside: |\n",
      "          ...\n",
      "          - id: $X\n",
      "            ...\n",
      "          ...\n",
      "          - id: $X\n",
      "            ...\n",
      "          ...\n",
      "      - pattern: |\n",
      "          id: $X\n",
      "    metadata:\n",
      "      category: correctness\n",
      "      technology:\n",
      "        - semgrep\n",
      "\n"
     ]
    }
   ],
   "source": [
    "print(with_meta[0])"
   ]
  },
  {
   "cell_type": "code",
   "execution_count": 25,
   "metadata": {},
   "outputs": [],
   "source": [
    "# This is no longer needed but left for reference\n",
    "\n",
    "# f = open(r\"C:\\Users\\willt\\semgrep-rules\\testing_files\\with_metadata.txt\", \"w\")\n",
    "# for line in with_meta:\n",
    "#     f.write(line)\n",
    "\n",
    "# f.close()"
   ]
  },
  {
   "cell_type": "code",
   "execution_count": 26,
   "metadata": {},
   "outputs": [],
   "source": [
    "# This is no longer needed and thus commented out\n",
    "\n",
    "# e = open(r\"C:\\Users\\willt\\semgrep-rules\\testing_files\\without_metadata.txt\", \"w\")\n",
    "# for line in without_meta:\n",
    "#     e.write(line)\n",
    "\n",
    "# e.close()"
   ]
  },
  {
   "cell_type": "code",
   "execution_count": 25,
   "metadata": {},
   "outputs": [],
   "source": [
    "sub_str = \"metadata:\"\n",
    "\n",
    "f = open(r\"C:\\Users\\willt\\semgrep-rules\\testing_files\\testing_data.txt\", \"a\")\n",
    "f.write(\"\"\"These are examples of YAML files lacking metadata. Each example is followed by the correct completion of the YAML file, including the metadata.\n",
    "\"\"\")\n",
    "\n",
    "for line in with_meta:\n",
    "    f.write(\"Example YAML file without metadata:\\n\\n\")\n",
    "    meta_sliced = line[:line.index(sub_str) + len(sub_str)]\n",
    "    f.write(meta_sliced + \"\\n\\n\")\n",
    "    f.write(\"Completed YAML file with metadata:\\n\\n\")\n",
    "    f.write(line)\n",
    "    f.write(\"\\n\\n\")\n",
    "\n",
    "f.close()"
   ]
  },
  {
   "cell_type": "code",
   "execution_count": null,
   "metadata": {},
   "outputs": [],
   "source": []
  }
 ],
 "metadata": {
  "kernelspec": {
   "display_name": "base",
   "language": "python",
   "name": "python3"
  },
  "language_info": {
   "codemirror_mode": {
    "name": "ipython",
    "version": 3
   },
   "file_extension": ".py",
   "mimetype": "text/x-python",
   "name": "python",
   "nbconvert_exporter": "python",
   "pygments_lexer": "ipython3",
   "version": "3.9.12"
  },
  "orig_nbformat": 4
 },
 "nbformat": 4,
 "nbformat_minor": 2
}
